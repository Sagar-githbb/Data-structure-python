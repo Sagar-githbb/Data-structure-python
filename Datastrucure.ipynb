{
  "nbformat": 4,
  "nbformat_minor": 0,
  "metadata": {
    "colab": {
      "provenance": []
    },
    "kernelspec": {
      "name": "python3",
      "display_name": "Python 3"
    },
    "language_info": {
      "name": "python"
    }
  },
  "cells": [
    {
      "cell_type": "code",
      "execution_count": null,
      "metadata": {
        "id": "4PCvjbvflues"
      },
      "outputs": [],
      "source": []
    },
    {
      "cell_type": "markdown",
      "source": [
        "Ques1. What are data structures, and why are they important?\n",
        "\n",
        "Ans. Data structure is a way of organizing and storing the data. It is important to accessed and manipulating data efficiently.\n",
        "\n",
        "Ques2. Explain the difference between mutable and immutable data types  \n",
        "with examples?\n",
        "\n",
        "Ans. Their are two different two types of data Mutable and immutable. mutable data is a data type which can be edit and manipulated, and immutable data type are those data type that can not be edit or manipulated.\n",
        "\n",
        "Ques3. What are the main differences between lists and tuples in Python?\n",
        "\n",
        "Ans. lists are collection of items that can store many types of data like heterogenous data (integer, float, strings, and complex no. etc.) and lists are mutable.\n",
        "tuples are ordered collection of data it is also hetrogenous data, tuples are immutable type of data.\n",
        "\n",
        "Ques4. Describe how dictionaries store data?\n",
        "\n",
        "Ans. dictionaries are the data structure that stores data as key and value pair, keys are unique and immutable, dictonaries are unordered collection of data.\n",
        "\n",
        "Ques5. Why might you use a set instead of a list in Python?\n",
        "\n",
        "Ans. set are unordered and unique collection of elements. It does not allow duplicate elements. It is also unordered collection of elements which means idexing will not work in sets.In the list use can use duplicate elements, it is also ordered collection of elements, and list are also mutable.\n",
        "\n",
        "Ques6. What is a string in Python, and how is it different from a list?\n",
        "\n",
        "Ans. Strings is a sequence of character that represents the textual data in (\"\") that can be accessed, manipulated. strings are immutalble. strings can only have elements in character. In list their are many kind of elements including list. Their are many funtion that can be performed in the list like .append, .insert, .pop, deep copy, and shallow copy etc.\n",
        "\n",
        "Ques7. How do tuples ensure data integrity in P\n",
        "Ans. tuples are ordered collectio of elements it is also hetrogenous data type, as tuples are immutable so it is not editable are manipulated.\n",
        "\n",
        "Ques8. What is a hash table, and how does it relate to dictionaries in Python?\n",
        "\n",
        "Ans. hash table is a data structure that stores data in form of key-value pair which helps for better data retrival. dictionaries are digital format of hash table that stores data in key-value format. so when you need to call a funtion you can use keys so code will go to the particular key as key are unique.\n",
        "\n",
        "Ques9. Can lists contain different data types in Python?\n",
        "\n",
        "Ans. lists can contain different data types as it is hetrogenous, Think it like a mom's shopping bag where you can put anything and in any format.\n",
        "\n",
        "Ques10. Explain why strings are immutable in Python?\n",
        "\n",
        "Ans.\n",
        "\n",
        "Ques11. What advantages do dictionaries offer over lists for certain tasks?\n",
        "\n",
        "Ans. dictionaries is used to access the data easily and efficiently just via the key value where in lists you need to determine the indexing funtion.\n",
        "\n",
        "Ques12. Describe a scenario where using a tuple would be preferable over a list?\n",
        "\n",
        "Ans. tuples are immutable funtion and list is a mutable funtion as their are certain criteria that is never need to change or update in that criteria tuples would be a preferable option over a list.\n",
        "ex. Their are customer_id or roll no. this kind of data never changes.\n",
        "\n",
        "Ques13. How do sets handle duplicate values in Python?\n",
        "\n",
        "Ans. Sets does not handle the duplicate values as it's is a funtion the is used to handel the unique data.\n",
        "\n",
        "Ques14.  How does the “in” keyword work differently for lists and dictionaries?\n",
        "\n",
        "Ans. In keyword is funtion that uses in the dictionaries where it looks for key not the value, \"in\"keyword in the list looks for value that is a little slow process.\n",
        "\n",
        "Ques15. Can you modify the elements of a tuple? Explain why or why not?\n",
        "\n",
        "Ans. no, we can not modify the elements of a tuple as it's is a immutalbe funtion.\n",
        "\n",
        "Ques16. What is a nested dictionary, and give an example of its use case?\n",
        "\n",
        "Ans. Nested dictionary is way of format to store the data in dictionary inside the dictionary that hold more complex the data.\n",
        "Ex. Let's assume their is a file and inside that file their is more file to handle more complex data.\n",
        "\n",
        "Ques17. Describe the time complexity of accessing elements in a dictionary?\n",
        "\n",
        "Ans. The time complexity of accessing elements in a dictionary is constant no matter their are 100 or million elements inside the dictionary.\n",
        "\n",
        "Ques18. In what situations are lists preferred over dictionaries?\n",
        "\n",
        "Ans. lists are preferred over dictionaries when you don't want to access the data by key-value pair. lists used for ordered collection of data, need to store the duplicate elements, or need to access index poisoing.\n",
        "\n",
        "Ques19. Why are dictionaries considered unordered, and how does that affect data retrieval?\n",
        "\n",
        "Ans.\n",
        "Ques20. Explain the difference between a list and a dictionary in terms of data retrieval?\n",
        "\n",
        "Ans.\n"
      ],
      "metadata": {
        "id": "jyj9zSVCl9xE"
      }
    },
    {
      "cell_type": "code",
      "source": [
        "#practical Questions\n",
        "# Write a code to create a string with your name and print it?\n",
        "name =\"Sagar sahu\"\n",
        "name"
      ],
      "metadata": {
        "colab": {
          "base_uri": "https://localhost:8080/",
          "height": 35
        },
        "id": "A_WBreDJDB-B",
        "outputId": "e602723b-8562-437b-f72f-ac660bb318fb"
      },
      "execution_count": 1,
      "outputs": [
        {
          "output_type": "execute_result",
          "data": {
            "text/plain": [
              "'Sagar sahu'"
            ],
            "application/vnd.google.colaboratory.intrinsic+json": {
              "type": "string"
            }
          },
          "metadata": {},
          "execution_count": 1
        }
      ]
    },
    {
      "cell_type": "code",
      "source": [
        "# Write a code to find the length of the string \"Hello World\"?\n",
        "s= \"Hello World\"\n",
        "len(s)"
      ],
      "metadata": {
        "colab": {
          "base_uri": "https://localhost:8080/"
        },
        "id": "mo5Cu32MDepP",
        "outputId": "7fea8aa6-a226-4011-9bb8-3208134e7bb8"
      },
      "execution_count": 2,
      "outputs": [
        {
          "output_type": "execute_result",
          "data": {
            "text/plain": [
              "11"
            ]
          },
          "metadata": {},
          "execution_count": 2
        }
      ]
    },
    {
      "cell_type": "code",
      "source": [
        "# Write a code to slice the first 3 characters from the string \"Python Programming\"?\n",
        "s = \"Python programming\"\n",
        "s[0:3]"
      ],
      "metadata": {
        "colab": {
          "base_uri": "https://localhost:8080/",
          "height": 35
        },
        "id": "qJT-ckbBDtFO",
        "outputId": "65c10338-26ac-4f6e-c753-63a80f5f08a5"
      },
      "execution_count": 13,
      "outputs": [
        {
          "output_type": "execute_result",
          "data": {
            "text/plain": [
              "'Pyt'"
            ],
            "application/vnd.google.colaboratory.intrinsic+json": {
              "type": "string"
            }
          },
          "metadata": {},
          "execution_count": 13
        }
      ]
    },
    {
      "cell_type": "code",
      "source": [
        "# Write a code to convert the string \"hello\" to uppercase?\n",
        "s = \"hello\"\n",
        "s.upper()"
      ],
      "metadata": {
        "colab": {
          "base_uri": "https://localhost:8080/",
          "height": 35
        },
        "id": "0CRm1QtzGaFK",
        "outputId": "27064856-0019-49ae-8157-d85117bba164"
      },
      "execution_count": 16,
      "outputs": [
        {
          "output_type": "execute_result",
          "data": {
            "text/plain": [
              "'HELLO'"
            ],
            "application/vnd.google.colaboratory.intrinsic+json": {
              "type": "string"
            }
          },
          "metadata": {},
          "execution_count": 16
        }
      ]
    },
    {
      "cell_type": "code",
      "source": [
        "#Write a code to replace the word \"apple\" with \"orange\" in the string \"I like apple\"?\n",
        "s = \"I like apple\"\n",
        "s.replace(\"apple\",\"orange\")"
      ],
      "metadata": {
        "colab": {
          "base_uri": "https://localhost:8080/",
          "height": 35
        },
        "id": "uYHio-QxGr6D",
        "outputId": "fc153c0f-37fd-4fed-846e-930fd91f2a7b"
      },
      "execution_count": 17,
      "outputs": [
        {
          "output_type": "execute_result",
          "data": {
            "text/plain": [
              "'I like orange'"
            ],
            "application/vnd.google.colaboratory.intrinsic+json": {
              "type": "string"
            }
          },
          "metadata": {},
          "execution_count": 17
        }
      ]
    },
    {
      "cell_type": "code",
      "source": [
        "# Write a code to create a list with numbers 1 to 5 and print it?\n",
        "s = [1,2,3,4,5]\n",
        "s"
      ],
      "metadata": {
        "colab": {
          "base_uri": "https://localhost:8080/"
        },
        "id": "C1_s5_b6Heor",
        "outputId": "8928cb82-1268-406a-80ce-734d202835c4"
      },
      "execution_count": 18,
      "outputs": [
        {
          "output_type": "execute_result",
          "data": {
            "text/plain": [
              "[1, 2, 3, 4, 5]"
            ]
          },
          "metadata": {},
          "execution_count": 18
        }
      ]
    },
    {
      "cell_type": "code",
      "source": [
        "#Write a code to append the number 10 to the list [1, 2, 3, 4]?\n",
        "s = [1,2,3,4]\n",
        "s.append(10)\n",
        "s"
      ],
      "metadata": {
        "colab": {
          "base_uri": "https://localhost:8080/"
        },
        "id": "XGgdT1bPH4AX",
        "outputId": "ebbf5570-f90e-4e0a-efc2-75e96b0dccdd"
      },
      "execution_count": 21,
      "outputs": [
        {
          "output_type": "execute_result",
          "data": {
            "text/plain": [
              "[1, 2, 3, 4, 10]"
            ]
          },
          "metadata": {},
          "execution_count": 21
        }
      ]
    },
    {
      "cell_type": "code",
      "source": [
        "# Write a code to remove the number 3 from the list [1, 2, 3, 4, 5]?\n",
        "s = [1,2,3,4,5]\n",
        "s.remove(3)\n",
        "s"
      ],
      "metadata": {
        "colab": {
          "base_uri": "https://localhost:8080/"
        },
        "id": "jMiOlVMaIT5I",
        "outputId": "7e69d014-f728-4459-9bbd-c3d903fd945b"
      },
      "execution_count": 23,
      "outputs": [
        {
          "output_type": "execute_result",
          "data": {
            "text/plain": [
              "[1, 2, 4, 5]"
            ]
          },
          "metadata": {},
          "execution_count": 23
        }
      ]
    },
    {
      "cell_type": "code",
      "source": [
        "#Write a code to access the second element in the list ['a', 'b', 'c', 'd']?\n",
        "s= [\"a\",\"b\",\"c\",\"d\"]\n",
        "s[1]"
      ],
      "metadata": {
        "colab": {
          "base_uri": "https://localhost:8080/",
          "height": 35
        },
        "id": "SAs9gic5ItEk",
        "outputId": "96aae7c1-406a-4fa0-b08f-ab95fddda125"
      },
      "execution_count": 24,
      "outputs": [
        {
          "output_type": "execute_result",
          "data": {
            "text/plain": [
              "'b'"
            ],
            "application/vnd.google.colaboratory.intrinsic+json": {
              "type": "string"
            }
          },
          "metadata": {},
          "execution_count": 24
        }
      ]
    },
    {
      "cell_type": "code",
      "source": [
        "# Write a code to reverse the list [10, 20, 30, 40, 50]?\n",
        "s = [19,20,30,40,50]\n",
        "s[::-1]"
      ],
      "metadata": {
        "colab": {
          "base_uri": "https://localhost:8080/"
        },
        "id": "3cO3F0PqJJMC",
        "outputId": "bf0cbdec-c5d9-416a-bb0a-60ee334bb24e"
      },
      "execution_count": 25,
      "outputs": [
        {
          "output_type": "execute_result",
          "data": {
            "text/plain": [
              "[50, 40, 30, 20, 19]"
            ]
          },
          "metadata": {},
          "execution_count": 25
        }
      ]
    },
    {
      "cell_type": "code",
      "source": [
        "# Write a code to create a tuple with the elements 100, 200, 300 and print it?\n",
        "s = (100, 200, 300)\n",
        "s"
      ],
      "metadata": {
        "colab": {
          "base_uri": "https://localhost:8080/"
        },
        "id": "yB6ucCaKX_y4",
        "outputId": "43c214a4-836e-4d7d-f3a4-b23e89efc274"
      },
      "execution_count": 28,
      "outputs": [
        {
          "output_type": "execute_result",
          "data": {
            "text/plain": [
              "(100, 200, 300)"
            ]
          },
          "metadata": {},
          "execution_count": 28
        }
      ]
    },
    {
      "cell_type": "code",
      "source": [
        "# Write a code to access the second-to-last element of the tuple ('red', 'green', 'blue', 'yellow')?\n",
        "s = (\"red\", \"green\", \"blue\",\"yellow\" )\n",
        "s[1:4]"
      ],
      "metadata": {
        "colab": {
          "base_uri": "https://localhost:8080/"
        },
        "id": "1lRDjtqfYzYH",
        "outputId": "82453de1-f955-426f-a877-e49228702773"
      },
      "execution_count": 31,
      "outputs": [
        {
          "output_type": "execute_result",
          "data": {
            "text/plain": [
              "('green', 'blue', 'yellow')"
            ]
          },
          "metadata": {},
          "execution_count": 31
        }
      ]
    },
    {
      "cell_type": "code",
      "source": [
        "# Write a code to find the minimum number in the tuple (10, 20, 5, 15)?\n",
        "s =(10,20, 5, 15)\n",
        "min(s)"
      ],
      "metadata": {
        "colab": {
          "base_uri": "https://localhost:8080/"
        },
        "id": "rHHs3NccZZAi",
        "outputId": "b5ac068f-68af-4689-e58f-ee48984cb217"
      },
      "execution_count": 32,
      "outputs": [
        {
          "output_type": "execute_result",
          "data": {
            "text/plain": [
              "5"
            ]
          },
          "metadata": {},
          "execution_count": 32
        }
      ]
    },
    {
      "cell_type": "code",
      "source": [
        "#. Write a code to find the index of the element \"cat\" in the tuple ('dog', 'cat', 'rabbit')?\n",
        "s = (\"dog\", \"cat\", \"rabbit\")\n",
        "s.index(\"cat\")\n"
      ],
      "metadata": {
        "colab": {
          "base_uri": "https://localhost:8080/"
        },
        "id": "skk1dtHeZp_1",
        "outputId": "335d8390-cc4b-4c0c-c95d-62c741e09951"
      },
      "execution_count": 35,
      "outputs": [
        {
          "output_type": "execute_result",
          "data": {
            "text/plain": [
              "1"
            ]
          },
          "metadata": {},
          "execution_count": 35
        }
      ]
    },
    {
      "cell_type": "code",
      "source": [
        "#5. Write a code to create a tuple containing three different fruits and check if \"kiwi\" is in it.?\n",
        "s = (\"apple\", \"papaya\", \"kiwi\")\n",
        "\"kiwi\" in s"
      ],
      "metadata": {
        "colab": {
          "base_uri": "https://localhost:8080/"
        },
        "id": "pbtamvtxabhW",
        "outputId": "156f114b-be06-4e6c-a500-0a5ad0124d1e"
      },
      "execution_count": 36,
      "outputs": [
        {
          "output_type": "execute_result",
          "data": {
            "text/plain": [
              "True"
            ]
          },
          "metadata": {},
          "execution_count": 36
        }
      ]
    },
    {
      "cell_type": "code",
      "source": [
        "# Write a code to create a set with the elements 'a', 'b', 'c' and print it?\n",
        "s = {\"a\", \"b\", \"c\"}\n",
        "s"
      ],
      "metadata": {
        "colab": {
          "base_uri": "https://localhost:8080/"
        },
        "id": "4TKYTQSRarbo",
        "outputId": "f27ec627-77c3-44a1-b23d-1faa9219287c"
      },
      "execution_count": 37,
      "outputs": [
        {
          "output_type": "execute_result",
          "data": {
            "text/plain": [
              "{'a', 'b', 'c'}"
            ]
          },
          "metadata": {},
          "execution_count": 37
        }
      ]
    },
    {
      "cell_type": "code",
      "source": [
        "# Write a code to clear all elements from the set {1, 2, 3, 4, 5}.\n",
        "s = {1,2,3,4,5}\n",
        "s.clear()\n",
        "s\n",
        "\n"
      ],
      "metadata": {
        "colab": {
          "base_uri": "https://localhost:8080/"
        },
        "id": "elaJhY8Ma61H",
        "outputId": "c62c56b0-148d-4b36-c121-2208bf4dcaf5"
      },
      "execution_count": 42,
      "outputs": [
        {
          "output_type": "execute_result",
          "data": {
            "text/plain": [
              "set()"
            ]
          },
          "metadata": {},
          "execution_count": 42
        }
      ]
    },
    {
      "cell_type": "code",
      "source": [
        "# Write a code to remove the element 4 from the set {1, 2, 3, 4}?\n",
        "s = {1,2,3,4}\n",
        "s.remove(4)\n",
        "s"
      ],
      "metadata": {
        "colab": {
          "base_uri": "https://localhost:8080/"
        },
        "id": "oxrlmWyYbZIC",
        "outputId": "b72cc9d7-2d8a-4474-de0a-447984f7af92"
      },
      "execution_count": 46,
      "outputs": [
        {
          "output_type": "execute_result",
          "data": {
            "text/plain": [
              "{1, 2, 3}"
            ]
          },
          "metadata": {},
          "execution_count": 46
        }
      ]
    },
    {
      "cell_type": "code",
      "source": [
        "# Write a code to find the union of two sets {1, 2, 3} and {3, 4, 5}?\n",
        "s = {1,2,3}\n",
        "s1 = {3,4,5}\n",
        "s | s1"
      ],
      "metadata": {
        "colab": {
          "base_uri": "https://localhost:8080/"
        },
        "id": "2iDjFAhtb0r8",
        "outputId": "5a46501e-4f03-465d-dfeb-66fc3958711d"
      },
      "execution_count": 47,
      "outputs": [
        {
          "output_type": "execute_result",
          "data": {
            "text/plain": [
              "{1, 2, 3, 4, 5}"
            ]
          },
          "metadata": {},
          "execution_count": 47
        }
      ]
    },
    {
      "cell_type": "code",
      "source": [
        "#Write a code to find the intersection of two sets {1, 2, 3} and {2, 3, 4}?\n",
        "s = {1,2,3}\n",
        "s1 = {2,3,4}\n",
        "s&s1"
      ],
      "metadata": {
        "colab": {
          "base_uri": "https://localhost:8080/"
        },
        "id": "K09dHiVecQDj",
        "outputId": "8c8daaf2-e934-4f95-a266-4d560022e575"
      },
      "execution_count": 48,
      "outputs": [
        {
          "output_type": "execute_result",
          "data": {
            "text/plain": [
              "{2, 3}"
            ]
          },
          "metadata": {},
          "execution_count": 48
        }
      ]
    },
    {
      "cell_type": "code",
      "source": [
        "# Write a code to create a dictionary with the keys \"name\", \"age\", and \"city\", and print it?\n",
        "s = {\"name\": \"sagar\", \"age\": 28,\"city\": \"Delhi\"}\n",
        "print(s)"
      ],
      "metadata": {
        "colab": {
          "base_uri": "https://localhost:8080/"
        },
        "id": "n8R6uHFeck7s",
        "outputId": "6b538151-e2a0-4347-de09-9b3bfbf940ec"
      },
      "execution_count": 50,
      "outputs": [
        {
          "output_type": "stream",
          "name": "stdout",
          "text": [
            "{'name': 'sagar', 'age': 28, 'city': 'Delhi'}\n"
          ]
        }
      ]
    },
    {
      "cell_type": "code",
      "source": [
        "# Write a code to add a new key-value pair \"country\": \"USA\" to the dictionary {'name': 'John', 'age': 25}?\n",
        "s = {\"name\": \"john\", \"age\" : 25}\n",
        "s[\"country\"] = \"USA\"\n",
        "s"
      ],
      "metadata": {
        "colab": {
          "base_uri": "https://localhost:8080/"
        },
        "id": "mgkv7--MZEvN",
        "outputId": "b0d638d9-7f9b-496a-ca3e-d788eedb5342"
      },
      "execution_count": 54,
      "outputs": [
        {
          "output_type": "execute_result",
          "data": {
            "text/plain": [
              "{'name': 'john', 'age': 25, 'country': 'USA'}"
            ]
          },
          "metadata": {},
          "execution_count": 54
        }
      ]
    },
    {
      "cell_type": "code",
      "source": [
        "#Write a code to access the value associated with the key \"name\" in the dictionary {'name': 'Alice', 'age': 30}?\n",
        "s = {\"name\": \"Alice\", \"age\": 30}\n",
        "s[\"name\"]"
      ],
      "metadata": {
        "colab": {
          "base_uri": "https://localhost:8080/",
          "height": 35
        },
        "id": "dqkbk7hretoq",
        "outputId": "4dde4000-4dc2-4a6a-a618-cac7299c9420"
      },
      "execution_count": 56,
      "outputs": [
        {
          "output_type": "execute_result",
          "data": {
            "text/plain": [
              "'Alice'"
            ],
            "application/vnd.google.colaboratory.intrinsic+json": {
              "type": "string"
            }
          },
          "metadata": {},
          "execution_count": 56
        }
      ]
    },
    {
      "cell_type": "code",
      "source": [
        "# Write a code to remove the key \"age\" from the dictionary {'name': 'Bob', 'age': 22, 'city': 'New York}\n",
        "s ={\"name\": \"Bob\", \"age\": 22, \"city\" : \"New York\"}\n",
        "s.pop(\"city\")\n",
        "s"
      ],
      "metadata": {
        "colab": {
          "base_uri": "https://localhost:8080/"
        },
        "id": "K9Nv-MFcfPZQ",
        "outputId": "d2a8b078-d487-44de-a8ab-b1b9f83e9145"
      },
      "execution_count": 60,
      "outputs": [
        {
          "output_type": "execute_result",
          "data": {
            "text/plain": [
              "{'name': 'Bob', 'age': 22}"
            ]
          },
          "metadata": {},
          "execution_count": 60
        }
      ]
    },
    {
      "cell_type": "code",
      "source": [
        "# Write a code to check if the key \"city\" exists in the dictionary {'name': 'Alice', 'city': 'Paris'}?\n",
        "s = { \"name\": \"Alice\", \"city\":\"paris\"}\n",
        "\"city\" in s"
      ],
      "metadata": {
        "colab": {
          "base_uri": "https://localhost:8080/"
        },
        "id": "dFVhIzEngSb3",
        "outputId": "fa56943e-636d-4d84-ffa3-4430a794007a"
      },
      "execution_count": 63,
      "outputs": [
        {
          "output_type": "execute_result",
          "data": {
            "text/plain": [
              "True"
            ]
          },
          "metadata": {},
          "execution_count": 63
        }
      ]
    },
    {
      "cell_type": "code",
      "source": [
        "# Write a code to create a list, a tuple, and a dictionary, and print them all?\n",
        "s = [1,2,3,4]\n",
        "s1 = (1,2,3,4)\n",
        "s2 = {\"name\": \"Ram\", \"City\": \"Delhi\"}\n",
        "print(s)\n",
        "print(s1)\n",
        "print(s2)"
      ],
      "metadata": {
        "colab": {
          "base_uri": "https://localhost:8080/"
        },
        "id": "SWkNIusWgw8q",
        "outputId": "9eb7d479-2e75-4607-ec61-820dc37012f4"
      },
      "execution_count": 68,
      "outputs": [
        {
          "output_type": "stream",
          "name": "stdout",
          "text": [
            "[1, 2, 3, 4]\n",
            "(1, 2, 3, 4)\n",
            "{'name': 'Ram', 'City': 'Delhi'}\n"
          ]
        }
      ]
    },
    {
      "cell_type": "code",
      "source": [
        "# Write a code to create a list of 5 random numbers between 1 and 100, sort it in ascending order, and print the\n",
        "#result.(replaced)"
      ],
      "metadata": {
        "id": "8DPkldlSipjU"
      },
      "execution_count": null,
      "outputs": []
    },
    {
      "cell_type": "code",
      "source": [
        "#Write a code to create a list with strings and print the element at the third index?\n",
        "s = [\"ram\", \"sita\", \"hanmuman\",\"laxman\"]\n",
        "s[3]"
      ],
      "metadata": {
        "colab": {
          "base_uri": "https://localhost:8080/",
          "height": 35
        },
        "id": "_Ago4U8Zix33",
        "outputId": "97ae8b96-391b-46e9-e415-97137611f2ba"
      },
      "execution_count": 71,
      "outputs": [
        {
          "output_type": "execute_result",
          "data": {
            "text/plain": [
              "'laxman'"
            ],
            "application/vnd.google.colaboratory.intrinsic+json": {
              "type": "string"
            }
          },
          "metadata": {},
          "execution_count": 71
        }
      ]
    },
    {
      "cell_type": "code",
      "source": [
        "# Write a code to combine two dictionaries into one and print the result?\n",
        "s = {\"name\": \"Ram\", \"address\" : \"Ayodhya\"}\n",
        "s1 = {\"state\": \"Uttar pradesh\", \"Country\":\"India\"}\n",
        "s2 = s | s1\n",
        "s2"
      ],
      "metadata": {
        "colab": {
          "base_uri": "https://localhost:8080/"
        },
        "id": "JVAZDUKYjStF",
        "outputId": "312e23df-1a02-4210-96c4-271e0da4ad3d"
      },
      "execution_count": 75,
      "outputs": [
        {
          "output_type": "execute_result",
          "data": {
            "text/plain": [
              "{'name': 'Ram',\n",
              " 'address': 'Ayodhya',\n",
              " 'state': 'Uttar pradesh',\n",
              " 'Country': 'India'}"
            ]
          },
          "metadata": {},
          "execution_count": 75
        }
      ]
    },
    {
      "cell_type": "code",
      "source": [
        "# Write a code to convert a list of strings into a set?\n",
        "s = [1,2,3,4]\n",
        "My_set = set(s)\n",
        "print(My_set)"
      ],
      "metadata": {
        "colab": {
          "base_uri": "https://localhost:8080/"
        },
        "id": "jzj10McxkjFA",
        "outputId": "2317d2c2-fb09-4ccd-c3b7-7538246bfabe"
      },
      "execution_count": 78,
      "outputs": [
        {
          "output_type": "stream",
          "name": "stdout",
          "text": [
            "{1, 2, 3, 4}\n"
          ]
        }
      ]
    }
  ]
}